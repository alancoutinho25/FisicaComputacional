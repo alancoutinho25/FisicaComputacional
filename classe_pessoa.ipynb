{
 "cells": [
  {
   "cell_type": "code",
   "execution_count": 64,
   "metadata": {},
   "outputs": [],
   "source": [
    "class aluno():\n",
    "    def __init__(self, nome, num_ufu):\n",
    "        #metodo de inicializacao\n",
    "        self.nome = nome\n",
    "        self.num_ufu = num_ufu\n",
    "        self.notas = [] #lista vazia de notas\n",
    "        self._media = None\n",
    "\n",
    "    def imprime_ficha(self):\n",
    "        print('Nome: ', self.nome)\n",
    "        print('# UFU: ', self.num_ufu)\n",
    "        print('Notas: ', self.notas)\n",
    "        print('Media: ', self.media)\n",
    "\n",
    "    def atribuir_nota(self, nota):\n",
    "        self.notas.append(nota)\n",
    "\n",
    "    @property\n",
    "    def media(self):\n",
    "        if not self._media:\n",
    "            return sum(self.notas) / 5\n",
    "                \n",
    "        "
   ]
  },
  {
   "cell_type": "code",
   "execution_count": 65,
   "metadata": {},
   "outputs": [],
   "source": [
    "olavo = aluno(\"Olavo Viola\", \"123FIS45678\")\n",
    "pedro = aluno(\"Pedro Dornelas\", \"123FIS00000\")"
   ]
  },
  {
   "cell_type": "code",
   "execution_count": 66,
   "metadata": {},
   "outputs": [
    {
     "name": "stdout",
     "output_type": "stream",
     "text": [
      "Pedro Dornelas\n"
     ]
    }
   ],
   "source": [
    "print(pedro.nome)"
   ]
  },
  {
   "cell_type": "code",
   "execution_count": 67,
   "metadata": {},
   "outputs": [],
   "source": [
    "olavo.atribuir_nota(8)\n",
    "olavo.atribuir_nota(6)\n",
    "#olavo.calcular_media(5)"
   ]
  },
  {
   "cell_type": "code",
   "execution_count": 68,
   "metadata": {},
   "outputs": [
    {
     "name": "stdout",
     "output_type": "stream",
     "text": [
      "Nome:  Olavo Viola\n",
      "# UFU:  123FIS45678\n",
      "Notas:  [8, 6]\n",
      "Media:  2.8\n"
     ]
    }
   ],
   "source": [
    "olavo.imprime_ficha()"
   ]
  },
  {
   "cell_type": "code",
   "execution_count": null,
   "metadata": {},
   "outputs": [],
   "source": []
  }
 ],
 "metadata": {
  "kernelspec": {
   "display_name": "Python 3",
   "language": "python",
   "name": "python3"
  },
  "language_info": {
   "codemirror_mode": {
    "name": "ipython",
    "version": 3
   },
   "file_extension": ".py",
   "mimetype": "text/x-python",
   "name": "python",
   "nbconvert_exporter": "python",
   "pygments_lexer": "ipython3",
   "version": "3.13.2"
  }
 },
 "nbformat": 4,
 "nbformat_minor": 2
}
