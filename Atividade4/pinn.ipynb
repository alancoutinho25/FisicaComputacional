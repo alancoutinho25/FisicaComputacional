{
  "cells": [
    {
      "cell_type": "markdown",
      "source": [
        "\n",
        "### Implementação da PINN"
      ],
      "metadata": {
        "id": "yyDv6CP1Bv5u"
      }
    },
    {
      "cell_type": "code",
      "source": [
        "import functools\n",
        "import matplotlib.pyplot as plt\n",
        "import numpy as np\n",
        "import torch\n",
        "import seaborn as sns\n",
        "\n",
        "from network import Net, NetDiscovery\n",
        "from diff_equations import *\n",
        "\n",
        "DEVICE = torch.device('cuda' if torch.cuda.is_available() else 'cpu')\n",
        "\n",
        "sns.set_theme()\n",
        "torch.manual_seed(42)"
      ],
      "metadata": {
        "colab": {
          "base_uri": "https://localhost:8080/"
        },
        "id": "J9Fi8RGz7SAF",
        "outputId": "de7edd9f-6771-4eb3-a01a-c6177855e864"
      },
      "execution_count": 5,
      "outputs": [
        {
          "output_type": "execute_result",
          "data": {
            "text/plain": [
              "<torch._C.Generator at 0x7a7f4c7cd8b0>"
            ]
          },
          "metadata": {},
          "execution_count": 5
        }
      ]
    },
    {
      "cell_type": "code",
      "source": [
        "np.random.seed(10)\n",
        "\n",
        "Tenv = 25\n",
        "T0 = 100\n",
        "R = 0.005  #parametro que é dado, mas depois será previsto pela PINN\n",
        "times = np.linspace(0, 1000, 1000)\n",
        "eq = functools.partial(cooling_law, Tenv=Tenv, T0=T0, R=R)\n",
        "temps = eq(times)\n",
        "\n",
        "# Make training data\n",
        "t = np.linspace(0, 300, 10)\n",
        "T = eq(t) +  2 * np.random.randn(10)\n"
      ],
      "metadata": {
        "id": "opQkdTtY7XpU"
      },
      "execution_count": 2,
      "outputs": []
    },
    {
      "cell_type": "code",
      "source": [
        "net = Net(1,1, loss2=None, epochs=20000, lr=1e-5).to(DEVICE)\n",
        "\n",
        "losses = net.fit(t, T)"
      ],
      "metadata": {
        "colab": {
          "base_uri": "https://localhost:8080/"
        },
        "id": "wLREnQxb7mrD",
        "outputId": "177e3b6a-dafc-4f31-8e39-a0cbf565cfa7"
      },
      "execution_count": 6,
      "outputs": [
        {
          "output_type": "stream",
          "name": "stdout",
          "text": [
            "Epoch 0/20000, loss: 4713.87\n",
            "Epoch 2000/20000, loss: 2510.45\n",
            "Epoch 4000/20000, loss: 2152.05\n",
            "Epoch 6000/20000, loss: 757.46\n",
            "Epoch 8000/20000, loss: 96.77\n",
            "Epoch 10000/20000, loss: 1.76\n",
            "Epoch 12000/20000, loss: 0.37\n",
            "Epoch 14000/20000, loss: 0.35\n",
            "Epoch 16000/20000, loss: 0.34\n",
            "Epoch 18000/20000, loss: 0.33\n"
          ]
        }
      ]
    },
    {
      "cell_type": "code",
      "source": [
        "def l2_reg(model: torch.nn.Module):\n",
        "    return torch.sum(sum([p.pow(2.) for p in model.parameters()]))"
      ],
      "metadata": {
        "id": "9l4jK0ko7pLz"
      },
      "execution_count": 7,
      "outputs": []
    },
    {
      "cell_type": "code",
      "source": [
        "netreg = Net(1,1, loss2=l2_reg, epochs=20000, lr=1e-4, loss2_weight=1).to(DEVICE)\n",
        "\n",
        "losses = netreg.fit(t, T)\n"
      ],
      "metadata": {
        "colab": {
          "base_uri": "https://localhost:8080/"
        },
        "id": "BQxmKDjU71t8",
        "outputId": "9247f1de-aa8b-4531-cbc1-9c9e5fe470a3"
      },
      "execution_count": 8,
      "outputs": [
        {
          "output_type": "stream",
          "name": "stdout",
          "text": [
            "Epoch 0/20000, loss: 11219.99\n",
            "Epoch 2000/20000, loss: 3894.98\n",
            "Epoch 4000/20000, loss: 2434.00\n",
            "Epoch 6000/20000, loss: 1620.68\n",
            "Epoch 8000/20000, loss: 1205.04\n",
            "Epoch 10000/20000, loss: 1014.87\n",
            "Epoch 12000/20000, loss: 915.38\n",
            "Epoch 14000/20000, loss: 840.63\n",
            "Epoch 16000/20000, loss: 772.21\n",
            "Epoch 18000/20000, loss: 710.80\n"
          ]
        }
      ]
    },
    {
      "cell_type": "code",
      "source": [
        "predsreg = netreg.predict(times)\n",
        "\n",
        "preds = net.predict(times)"
      ],
      "metadata": {
        "id": "X5MfD9-i72UT"
      },
      "execution_count": 9,
      "outputs": []
    },
    {
      "cell_type": "code",
      "source": [
        "def physics_loss(model: torch.nn.Module):\n",
        "    ts = torch.linspace(0, 1000, steps=1000,).view(-1,1).requires_grad_(True).to(DEVICE)\n",
        "    temps = model(ts)\n",
        "    dT = grad(temps, ts)[0]\n",
        "    pde = R*(Tenv - temps) - dT\n",
        "\n",
        "    return torch.mean(pde**2)"
      ],
      "metadata": {
        "id": "CYJKVNPT8Ju0"
      },
      "execution_count": 10,
      "outputs": []
    },
    {
      "cell_type": "code",
      "source": [
        "net = Net(1,1, loss2=physics_loss, epochs=30000, loss2_weight=1, lr=1e-5).to(DEVICE)\n",
        "\n",
        "losses = net.fit(t, T)"
      ],
      "metadata": {
        "colab": {
          "base_uri": "https://localhost:8080/"
        },
        "id": "gFM_Bqkx8MHL",
        "outputId": "93603329-235e-466f-9105-06c0ed8208ff"
      },
      "execution_count": 11,
      "outputs": [
        {
          "output_type": "stream",
          "name": "stdout",
          "text": [
            "Epoch 0/30000, loss: 4775.84\n",
            "Epoch 3000/30000, loss: 2435.01\n",
            "Epoch 6000/30000, loss: 498.11\n",
            "Epoch 9000/30000, loss: 0.98\n",
            "Epoch 12000/30000, loss: 0.39\n",
            "Epoch 15000/30000, loss: 0.37\n",
            "Epoch 18000/30000, loss: 0.37\n",
            "Epoch 21000/30000, loss: 0.34\n",
            "Epoch 24000/30000, loss: 0.33\n",
            "Epoch 27000/30000, loss: 0.34\n"
          ]
        }
      ]
    },
    {
      "cell_type": "markdown",
      "source": [
        "Previsão da rede em comparação com a solução analítica"
      ],
      "metadata": {
        "id": "aYiTfpVqCTAc"
      }
    },
    {
      "cell_type": "code",
      "source": [
        "preds = net.predict(times)\n",
        "\n",
        "plt.plot(times, temps, alpha=0.8)\n",
        "plt.plot(t, T, 'o')\n",
        "plt.plot(times, preds, alpha=0.8)\n",
        "plt.legend(labels=['Solução analítica','Dados de treinamento', 'PINN'])\n",
        "plt.ylabel('Temperatura (°C)')\n",
        "plt.xlabel('t (s)')"
      ],
      "metadata": {
        "colab": {
          "base_uri": "https://localhost:8080/",
          "height": 475
        },
        "id": "MNs496548NzK",
        "outputId": "68d49c73-c760-425e-b2e4-684a4cb87837"
      },
      "execution_count": 12,
      "outputs": [
        {
          "output_type": "execute_result",
          "data": {
            "text/plain": [
              "Text(0.5, 0, 't (s)')"
            ]
          },
          "metadata": {},
          "execution_count": 12
        },
        {
          "output_type": "display_data",
          "data": {
            "text/plain": [
              "<Figure size 640x480 with 1 Axes>"
            ],
            "image/png": "[encoded data removed]"
          },
          "metadata": {}
        }
      ]
    },
    {
      "cell_type": "code",
      "source": [
        "def physics_loss_discovery(model: torch.nn.Module):\n",
        "    ts = torch.linspace(0, 1000, steps=1000,).view(-1,1).requires_grad_(True).to(DEVICE)\n",
        "    temps = model(ts)\n",
        "    dT = grad(temps, ts)[0]\n",
        "    pde = model.r * (Tenv - temps) - dT\n",
        "\n",
        "    return torch.mean(pde**2)"
      ],
      "metadata": {
        "id": "hOg36Vwb908D"
      },
      "execution_count": 13,
      "outputs": []
    },
    {
      "cell_type": "code",
      "source": [
        "netdisc = NetDiscovery(1, 1, loss2=physics_loss_discovery, loss2_weight=1, epochs=40000, lr= 5e-6).to(DEVICE)\n",
        "\n",
        "losses = netdisc.fit(t, T)"
      ],
      "metadata": {
        "colab": {
          "base_uri": "https://localhost:8080/"
        },
        "id": "usHC-9T993oy",
        "outputId": "41dfac81-ea51-4914-a736-4b0c3cfd7d55"
      },
      "execution_count": 14,
      "outputs": [
        {
          "output_type": "stream",
          "name": "stdout",
          "text": [
            "Epoch 0/40000, loss: 4816.01\n",
            "Epoch 4000/40000, loss: 2501.69\n",
            "Epoch 8000/40000, loss: 2074.12\n",
            "Epoch 12000/40000, loss: 559.66\n",
            "Epoch 16000/40000, loss: 4.16\n",
            "Epoch 20000/40000, loss: 1.48\n",
            "Epoch 24000/40000, loss: 1.06\n",
            "Epoch 28000/40000, loss: 0.60\n",
            "Epoch 32000/40000, loss: 0.39\n",
            "Epoch 36000/40000, loss: 0.30\n"
          ]
        }
      ]
    },
    {
      "cell_type": "markdown",
      "source": [
        "Descobrindo a taxa de decaimento $r$"
      ],
      "metadata": {
        "id": "WAy-c3sQCa8z"
      }
    },
    {
      "cell_type": "code",
      "source": [
        "preds = netdisc.predict(times)\n",
        "print(f'A taxa de decaimento é r = {netdisc.r}')\n",
        "\n"
      ],
      "metadata": {
        "colab": {
          "base_uri": "https://localhost:8080/"
        },
        "id": "pnlyZ9Ff96JZ",
        "outputId": "757ea4a3-bb42-4b04-c369-d31f683440fe"
      },
      "execution_count": 16,
      "outputs": [
        {
          "output_type": "stream",
          "name": "stdout",
          "text": [
            "A taxa de decaimento é r = Parameter containing:\n",
            "tensor([0.0051], requires_grad=True)\n"
          ]
        }
      ]
    },
    {
      "cell_type": "code",
      "source": [],
      "metadata": {
        "id": "STcZBxMlAHoO"
      },
      "execution_count": null,
      "outputs": []
    }
  ],
  "metadata": {
    "colab": {
      "provenance": []
    },
    "kernelspec": {
      "display_name": "Python 3",
      "name": "python3"
    },
    "language_info": {
      "name": "python"
    }
  },
  "nbformat": 4,
  "nbformat_minor": 0
}